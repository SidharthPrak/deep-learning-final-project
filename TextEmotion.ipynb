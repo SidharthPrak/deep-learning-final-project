{
  "nbformat": 4,
  "nbformat_minor": 0,
  "metadata": {
    "colab": {
      "provenance": []
    },
    "kernelspec": {
      "name": "python3",
      "display_name": "Python 3"
    },
    "language_info": {
      "name": "python"
    }
  },
  "cells": [
    {
      "cell_type": "code",
      "execution_count": 85,
      "metadata": {
        "colab": {
          "base_uri": "https://localhost:8080/"
        },
        "id": "bz2xaWdkBJ89",
        "outputId": "17b4512b-ca32-4947-9895-9e454f1e8028"
      },
      "outputs": [
        {
          "output_type": "stream",
          "name": "stdout",
          "text": [
            "Looking in indexes: https://pypi.org/simple, https://us-python.pkg.dev/colab-wheels/public/simple/\n",
            "Requirement already satisfied: tweet-preprocessor in /usr/local/lib/python3.10/dist-packages (0.6.0)\n"
          ]
        },
        {
          "output_type": "stream",
          "name": "stderr",
          "text": [
            "[nltk_data] Downloading package punkt to /root/nltk_data...\n",
            "[nltk_data]   Package punkt is already up-to-date!\n"
          ]
        },
        {
          "output_type": "execute_result",
          "data": {
            "text/plain": [
              "True"
            ]
          },
          "metadata": {},
          "execution_count": 85
        }
      ],
      "source": [
        "import keras\n",
        "import numpy as np\n",
        "from keras.models import Sequential,Model\n",
        "from keras.layers import Dense,Bidirectional\n",
        "from nltk.tokenize import word_tokenize,sent_tokenize\n",
        "from keras.layers import *\n",
        "from sklearn.model_selection import cross_val_score\n",
        "\n",
        "!pip install tweet-preprocessor\n",
        "import preprocessor as p\n",
        "import nltk\n",
        "import pandas as pd\n",
        "import re\n",
        "nltk.download('punkt')"
      ]
    },
    {
      "cell_type": "code",
      "source": [
        "!pip install ftfy"
      ],
      "metadata": {
        "colab": {
          "base_uri": "https://localhost:8080/"
        },
        "id": "NjnYEmflKEOQ",
        "outputId": "e1624aaf-8a22-4eea-bcbe-dbd56ba94278"
      },
      "execution_count": 86,
      "outputs": [
        {
          "output_type": "stream",
          "name": "stdout",
          "text": [
            "Looking in indexes: https://pypi.org/simple, https://us-python.pkg.dev/colab-wheels/public/simple/\n",
            "Requirement already satisfied: ftfy in /usr/local/lib/python3.10/dist-packages (6.1.1)\n",
            "Requirement already satisfied: wcwidth>=0.2.5 in /usr/local/lib/python3.10/dist-packages (from ftfy) (0.2.6)\n"
          ]
        }
      ]
    },
    {
      "cell_type": "code",
      "source": [
        "from google.colab import drive\n",
        "drive.mount('/content/drive')"
      ],
      "metadata": {
        "colab": {
          "base_uri": "https://localhost:8080/"
        },
        "id": "CS2RKCGgBKYh",
        "outputId": "8fd6862b-8868-4709-edda-d6e875fcdfff"
      },
      "execution_count": 87,
      "outputs": [
        {
          "output_type": "stream",
          "name": "stdout",
          "text": [
            "Drive already mounted at /content/drive; to attempt to forcibly remount, call drive.mount(\"/content/drive\", force_remount=True).\n"
          ]
        }
      ]
    },
    {
      "cell_type": "code",
      "source": [
        "df = pd.read_csv('/content/drive/MyDrive/Emotion_final.csv', sep = ',')"
      ],
      "metadata": {
        "id": "uVhhRjwJBNwC"
      },
      "execution_count": 88,
      "outputs": []
    },
    {
      "cell_type": "code",
      "source": [
        "df = df[df['Emotion'] != 'love']"
      ],
      "metadata": {
        "id": "aj7LvJk4BRrb"
      },
      "execution_count": 89,
      "outputs": []
    },
    {
      "cell_type": "code",
      "source": [
        "df"
      ],
      "metadata": {
        "colab": {
          "base_uri": "https://localhost:8080/",
          "height": 423
        },
        "id": "fUEmVh-bBxMr",
        "outputId": "59e3b2c2-7d4b-40fc-ff1c-9a22f360d35a"
      },
      "execution_count": 90,
      "outputs": [
        {
          "output_type": "execute_result",
          "data": {
            "text/plain": [
              "                                                    Text  Emotion\n",
              "0                                i didnt feel humiliated  sadness\n",
              "1      i can go from feeling so hopeless to so damned...  sadness\n",
              "2       im grabbing a minute to post i feel greedy wrong    anger\n",
              "4                                   i am feeling grouchy    anger\n",
              "5      ive been feeling a little burdened lately wasn...  sadness\n",
              "...                                                  ...      ...\n",
              "21454               Melissa stared at her friend in dism     fear\n",
              "21455  Successive state elections have seen the gover...     fear\n",
              "21456               Vincent was irritated but not dismay     fear\n",
              "21457  Kendall-Hume turned back to face the dismayed ...     fear\n",
              "21458                    I am dismayed , but not surpris     fear\n",
              "\n",
              "[19818 rows x 2 columns]"
            ],
            "text/html": [
              "\n",
              "  <div id=\"df-679a7fe4-d8c1-4601-ad9b-33d19ba5e84e\">\n",
              "    <div class=\"colab-df-container\">\n",
              "      <div>\n",
              "<style scoped>\n",
              "    .dataframe tbody tr th:only-of-type {\n",
              "        vertical-align: middle;\n",
              "    }\n",
              "\n",
              "    .dataframe tbody tr th {\n",
              "        vertical-align: top;\n",
              "    }\n",
              "\n",
              "    .dataframe thead th {\n",
              "        text-align: right;\n",
              "    }\n",
              "</style>\n",
              "<table border=\"1\" class=\"dataframe\">\n",
              "  <thead>\n",
              "    <tr style=\"text-align: right;\">\n",
              "      <th></th>\n",
              "      <th>Text</th>\n",
              "      <th>Emotion</th>\n",
              "    </tr>\n",
              "  </thead>\n",
              "  <tbody>\n",
              "    <tr>\n",
              "      <th>0</th>\n",
              "      <td>i didnt feel humiliated</td>\n",
              "      <td>sadness</td>\n",
              "    </tr>\n",
              "    <tr>\n",
              "      <th>1</th>\n",
              "      <td>i can go from feeling so hopeless to so damned...</td>\n",
              "      <td>sadness</td>\n",
              "    </tr>\n",
              "    <tr>\n",
              "      <th>2</th>\n",
              "      <td>im grabbing a minute to post i feel greedy wrong</td>\n",
              "      <td>anger</td>\n",
              "    </tr>\n",
              "    <tr>\n",
              "      <th>4</th>\n",
              "      <td>i am feeling grouchy</td>\n",
              "      <td>anger</td>\n",
              "    </tr>\n",
              "    <tr>\n",
              "      <th>5</th>\n",
              "      <td>ive been feeling a little burdened lately wasn...</td>\n",
              "      <td>sadness</td>\n",
              "    </tr>\n",
              "    <tr>\n",
              "      <th>...</th>\n",
              "      <td>...</td>\n",
              "      <td>...</td>\n",
              "    </tr>\n",
              "    <tr>\n",
              "      <th>21454</th>\n",
              "      <td>Melissa stared at her friend in dism</td>\n",
              "      <td>fear</td>\n",
              "    </tr>\n",
              "    <tr>\n",
              "      <th>21455</th>\n",
              "      <td>Successive state elections have seen the gover...</td>\n",
              "      <td>fear</td>\n",
              "    </tr>\n",
              "    <tr>\n",
              "      <th>21456</th>\n",
              "      <td>Vincent was irritated but not dismay</td>\n",
              "      <td>fear</td>\n",
              "    </tr>\n",
              "    <tr>\n",
              "      <th>21457</th>\n",
              "      <td>Kendall-Hume turned back to face the dismayed ...</td>\n",
              "      <td>fear</td>\n",
              "    </tr>\n",
              "    <tr>\n",
              "      <th>21458</th>\n",
              "      <td>I am dismayed , but not surpris</td>\n",
              "      <td>fear</td>\n",
              "    </tr>\n",
              "  </tbody>\n",
              "</table>\n",
              "<p>19818 rows × 2 columns</p>\n",
              "</div>\n",
              "      <button class=\"colab-df-convert\" onclick=\"convertToInteractive('df-679a7fe4-d8c1-4601-ad9b-33d19ba5e84e')\"\n",
              "              title=\"Convert this dataframe to an interactive table.\"\n",
              "              style=\"display:none;\">\n",
              "        \n",
              "  <svg xmlns=\"http://www.w3.org/2000/svg\" height=\"24px\"viewBox=\"0 0 24 24\"\n",
              "       width=\"24px\">\n",
              "    <path d=\"M0 0h24v24H0V0z\" fill=\"none\"/>\n",
              "    <path d=\"M18.56 5.44l.94 2.06.94-2.06 2.06-.94-2.06-.94-.94-2.06-.94 2.06-2.06.94zm-11 1L8.5 8.5l.94-2.06 2.06-.94-2.06-.94L8.5 2.5l-.94 2.06-2.06.94zm10 10l.94 2.06.94-2.06 2.06-.94-2.06-.94-.94-2.06-.94 2.06-2.06.94z\"/><path d=\"M17.41 7.96l-1.37-1.37c-.4-.4-.92-.59-1.43-.59-.52 0-1.04.2-1.43.59L10.3 9.45l-7.72 7.72c-.78.78-.78 2.05 0 2.83L4 21.41c.39.39.9.59 1.41.59.51 0 1.02-.2 1.41-.59l7.78-7.78 2.81-2.81c.8-.78.8-2.07 0-2.86zM5.41 20L4 18.59l7.72-7.72 1.47 1.35L5.41 20z\"/>\n",
              "  </svg>\n",
              "      </button>\n",
              "      \n",
              "  <style>\n",
              "    .colab-df-container {\n",
              "      display:flex;\n",
              "      flex-wrap:wrap;\n",
              "      gap: 12px;\n",
              "    }\n",
              "\n",
              "    .colab-df-convert {\n",
              "      background-color: #E8F0FE;\n",
              "      border: none;\n",
              "      border-radius: 50%;\n",
              "      cursor: pointer;\n",
              "      display: none;\n",
              "      fill: #1967D2;\n",
              "      height: 32px;\n",
              "      padding: 0 0 0 0;\n",
              "      width: 32px;\n",
              "    }\n",
              "\n",
              "    .colab-df-convert:hover {\n",
              "      background-color: #E2EBFA;\n",
              "      box-shadow: 0px 1px 2px rgba(60, 64, 67, 0.3), 0px 1px 3px 1px rgba(60, 64, 67, 0.15);\n",
              "      fill: #174EA6;\n",
              "    }\n",
              "\n",
              "    [theme=dark] .colab-df-convert {\n",
              "      background-color: #3B4455;\n",
              "      fill: #D2E3FC;\n",
              "    }\n",
              "\n",
              "    [theme=dark] .colab-df-convert:hover {\n",
              "      background-color: #434B5C;\n",
              "      box-shadow: 0px 1px 3px 1px rgba(0, 0, 0, 0.15);\n",
              "      filter: drop-shadow(0px 1px 2px rgba(0, 0, 0, 0.3));\n",
              "      fill: #FFFFFF;\n",
              "    }\n",
              "  </style>\n",
              "\n",
              "      <script>\n",
              "        const buttonEl =\n",
              "          document.querySelector('#df-679a7fe4-d8c1-4601-ad9b-33d19ba5e84e button.colab-df-convert');\n",
              "        buttonEl.style.display =\n",
              "          google.colab.kernel.accessAllowed ? 'block' : 'none';\n",
              "\n",
              "        async function convertToInteractive(key) {\n",
              "          const element = document.querySelector('#df-679a7fe4-d8c1-4601-ad9b-33d19ba5e84e');\n",
              "          const dataTable =\n",
              "            await google.colab.kernel.invokeFunction('convertToInteractive',\n",
              "                                                     [key], {});\n",
              "          if (!dataTable) return;\n",
              "\n",
              "          const docLinkHtml = 'Like what you see? Visit the ' +\n",
              "            '<a target=\"_blank\" href=https://colab.research.google.com/notebooks/data_table.ipynb>data table notebook</a>'\n",
              "            + ' to learn more about interactive tables.';\n",
              "          element.innerHTML = '';\n",
              "          dataTable['output_type'] = 'display_data';\n",
              "          await google.colab.output.renderOutput(dataTable, element);\n",
              "          const docLink = document.createElement('div');\n",
              "          docLink.innerHTML = docLinkHtml;\n",
              "          element.appendChild(docLink);\n",
              "        }\n",
              "      </script>\n",
              "    </div>\n",
              "  </div>\n",
              "  "
            ]
          },
          "metadata": {},
          "execution_count": 90
        }
      ]
    },
    {
      "cell_type": "code",
      "source": [
        "# Expand Contraction\n",
        "cList = {\n",
        "  \"ain't\": \"am not\",\n",
        "  \"aren't\": \"are not\",\n",
        "  \"can't\": \"cannot\",\n",
        "  \"can't've\": \"cannot have\",\n",
        "  \"'cause\": \"because\",\n",
        "  \"could've\": \"could have\",\n",
        "  \"couldn't\": \"could not\",\n",
        "  \"couldn't've\": \"could not have\",\n",
        "  \"didn't\": \"did not\",\n",
        "  \"doesn't\": \"does not\",\n",
        "  \"don't\": \"do not\",\n",
        "  \"hadn't\": \"had not\",\n",
        "  \"hadn't've\": \"had not have\",\n",
        "  \"hasn't\": \"has not\",\n",
        "  \"haven't\": \"have not\",\n",
        "  \"he'd\": \"he would\",\n",
        "  \"he'd've\": \"he would have\",\n",
        "  \"he'll\": \"he will\",\n",
        "  \"he'll've\": \"he will have\",\n",
        "  \"he's\": \"he is\",\n",
        "  \"how'd\": \"how did\",\n",
        "  \"how'd'y\": \"how do you\",\n",
        "  \"how'll\": \"how will\",\n",
        "  \"how's\": \"how is\",\n",
        "  \"I'd\": \"I would\",\n",
        "  \"I'd've\": \"I would have\",\n",
        "  \"I'll\": \"I will\",\n",
        "  \"I'll've\": \"I will have\",\n",
        "  \"I'm\": \"I am\",\n",
        "  \"I've\": \"I have\",\n",
        "  \"isn't\": \"is not\",\n",
        "  \"it'd\": \"it had\",\n",
        "  \"it'd've\": \"it would have\",\n",
        "  \"it'll\": \"it will\",\n",
        "  \"it'll've\": \"it will have\",\n",
        "  \"it's\": \"it is\",\n",
        "  \"let's\": \"let us\",\n",
        "  \"ma'am\": \"madam\",\n",
        "  \"mayn't\": \"may not\",\n",
        "  \"might've\": \"might have\",\n",
        "  \"mightn't\": \"might not\",\n",
        "  \"mightn't've\": \"might not have\",\n",
        "  \"must've\": \"must have\",\n",
        "  \"mustn't\": \"must not\",\n",
        "  \"mustn't've\": \"must not have\",\n",
        "  \"needn't\": \"need not\",\n",
        "  \"needn't've\": \"need not have\",\n",
        "  \"o'clock\": \"of the clock\",\n",
        "  \"oughtn't\": \"ought not\",\n",
        "  \"oughtn't've\": \"ought not have\",\n",
        "  \"shan't\": \"shall not\",\n",
        "  \"sha'n't\": \"shall not\",\n",
        "  \"shan't've\": \"shall not have\",\n",
        "  \"she'd\": \"she would\",\n",
        "  \"she'd've\": \"she would have\",\n",
        "  \"she'll\": \"she will\",\n",
        "  \"she'll've\": \"she will have\",\n",
        "  \"she's\": \"she is\",\n",
        "  \"should've\": \"should have\",\n",
        "  \"shouldn't\": \"should not\",\n",
        "  \"shouldn't've\": \"should not have\",\n",
        "  \"so've\": \"so have\",\n",
        "  \"so's\": \"so is\",\n",
        "  \"that'd\": \"that would\",\n",
        "  \"that'd've\": \"that would have\",\n",
        "  \"that's\": \"that is\",\n",
        "  \"there'd\": \"there had\",\n",
        "  \"there'd've\": \"there would have\",\n",
        "  \"there's\": \"there is\",\n",
        "  \"they'd\": \"they would\",\n",
        "  \"they'd've\": \"they would have\",\n",
        "  \"they'll\": \"they will\",\n",
        "  \"they'll've\": \"they will have\",\n",
        "  \"they're\": \"they are\",\n",
        "  \"they've\": \"they have\",\n",
        "  \"to've\": \"to have\",\n",
        "  \"wasn't\": \"was not\",\n",
        "  \"we'd\": \"we had\",\n",
        "  \"we'd've\": \"we would have\",\n",
        "  \"we'll\": \"we will\",\n",
        "  \"we'll've\": \"we will have\",\n",
        "  \"we're\": \"we are\",\n",
        "  \"we've\": \"we have\",\n",
        "  \"weren't\": \"were not\",\n",
        "  \"what'll\": \"what will\",\n",
        "  \"what'll've\": \"what will have\",\n",
        "  \"what're\": \"what are\",\n",
        "  \"what's\": \"what is\",\n",
        "  \"what've\": \"what have\",\n",
        "  \"when's\": \"when is\",\n",
        "  \"when've\": \"when have\",\n",
        "  \"where'd\": \"where did\",\n",
        "  \"where's\": \"where is\",\n",
        "  \"where've\": \"where have\",\n",
        "  \"who'll\": \"who will\",\n",
        "  \"who'll've\": \"who will have\",\n",
        "  \"who's\": \"who is\",\n",
        "  \"who've\": \"who have\",\n",
        "  \"why's\": \"why is\",\n",
        "  \"why've\": \"why have\",\n",
        "  \"will've\": \"will have\",\n",
        "  \"won't\": \"will not\",\n",
        "  \"won't've\": \"will not have\",\n",
        "  \"would've\": \"would have\",\n",
        "  \"wouldn't\": \"would not\",\n",
        "  \"wouldn't've\": \"would not have\",\n",
        "  \"y'all\": \"you all\",\n",
        "  \"y'alls\": \"you alls\",\n",
        "  \"y'all'd\": \"you all would\",\n",
        "  \"y'all'd've\": \"you all would have\",\n",
        "  \"y'all're\": \"you all are\",\n",
        "  \"y'all've\": \"you all have\",\n",
        "  \"you'd\": \"you had\",\n",
        "  \"you'd've\": \"you would have\",\n",
        "  \"you'll\": \"you you will\",\n",
        "  \"you'll've\": \"you you will have\",\n",
        "  \"you're\": \"you are\",\n",
        "  \"you've\": \"you have\"\n",
        "}\n",
        "\n",
        "c_re = re.compile('(%s)' % '|'.join(cList.keys()))\n",
        "\n",
        "def expandContractions(text, c_re=c_re):\n",
        "    def replace(match):\n",
        "        return cList[match.group(0)]\n",
        "    return c_re.sub(replace, text)"
      ],
      "metadata": {
        "id": "3NFPYFO5Jy_e"
      },
      "execution_count": 91,
      "outputs": []
    },
    {
      "cell_type": "code",
      "source": [
        "nltk.download(\"stopwords\")\n",
        "nltk.download(\"punkt\")\n",
        "from nltk.corpus import stopwords\n",
        "from nltk.stem.porter import PorterStemmer"
      ],
      "metadata": {
        "colab": {
          "base_uri": "https://localhost:8080/"
        },
        "id": "h-6FcoQRJ1Tc",
        "outputId": "d1672ede-f2d2-403c-96e0-d3fc99b1f5c4"
      },
      "execution_count": 92,
      "outputs": [
        {
          "output_type": "stream",
          "name": "stderr",
          "text": [
            "[nltk_data] Downloading package stopwords to /root/nltk_data...\n",
            "[nltk_data]   Package stopwords is already up-to-date!\n",
            "[nltk_data] Downloading package punkt to /root/nltk_data...\n",
            "[nltk_data]   Package punkt is already up-to-date!\n"
          ]
        }
      ]
    },
    {
      "cell_type": "code",
      "source": [
        "BAD_SYMBOLS_RE = re.compile('[^0-9a-z #+_]')\n",
        "#function to clean the tweets\n",
        "def clean_tweets(tweets):\n",
        "    cleaned_tweets = []\n",
        "    for tweet in tweets:\n",
        "        tweet = str(tweet)\n",
        "        tweet = tweet.lower()\n",
        "        tweet = BAD_SYMBOLS_RE.sub(' ', tweet)\n",
        "        tweet = p.clean(tweet)\n",
        "        \n",
        "        #calling the expand contraction function\n",
        "        tweet = expandContractions(tweet)\n",
        "\n",
        "        #remove punctuation\n",
        "        tweet = ' '.join(re.sub(\"([^0-9A-Za-z \\t])\", \" \", tweet).split())\n",
        "\n",
        "        #stop words\n",
        "        stop_words = set(stopwords.words('english'))\n",
        "        word_tokens = nltk.word_tokenize(tweet) \n",
        "        filtered_sentence = [w for w in word_tokens if not w in stop_words]\n",
        "        tweet = ' '.join(filtered_sentence)\n",
        "        \n",
        "        cleaned_tweets.append(tweet)\n",
        "        \n",
        "    return cleaned_tweets"
      ],
      "metadata": {
        "id": "MhFfEEQ9J3km"
      },
      "execution_count": 93,
      "outputs": []
    },
    {
      "cell_type": "code",
      "source": [
        "import ftfy\n",
        "X=clean_tweets([tweet for tweet in df['Text']])\n"
      ],
      "metadata": {
        "id": "rv62uZ3BJ5C4"
      },
      "execution_count": 94,
      "outputs": []
    },
    {
      "cell_type": "code",
      "source": [
        "df1 = pd.DataFrame(X, columns=['tweets'])\n",
        "df1"
      ],
      "metadata": {
        "colab": {
          "base_uri": "https://localhost:8080/",
          "height": 423
        },
        "id": "lza1VsD5LbCe",
        "outputId": "cef55706-9999-449b-c416-8ff4d2ca696a"
      },
      "execution_count": 95,
      "outputs": [
        {
          "output_type": "execute_result",
          "data": {
            "text/plain": [
              "                                                  tweets\n",
              "0                                  didnt feel humiliated\n",
              "1      go feeling hopeless damned hopeful around some...\n",
              "2              im grabbing minute post feel greedy wrong\n",
              "3                                        feeling grouchy\n",
              "4          ive feeling little burdened lately wasnt sure\n",
              "...                                                  ...\n",
              "19813                         melissa stared friend dism\n",
              "19814  successive state elections seen governing part...\n",
              "19815                           vincent irritated dismay\n",
              "19816        kendall hume turned back face dismayed coup\n",
              "19817                                   dismayed surpris\n",
              "\n",
              "[19818 rows x 1 columns]"
            ],
            "text/html": [
              "\n",
              "  <div id=\"df-1b754320-cf8e-41ec-92cf-730520258fd9\">\n",
              "    <div class=\"colab-df-container\">\n",
              "      <div>\n",
              "<style scoped>\n",
              "    .dataframe tbody tr th:only-of-type {\n",
              "        vertical-align: middle;\n",
              "    }\n",
              "\n",
              "    .dataframe tbody tr th {\n",
              "        vertical-align: top;\n",
              "    }\n",
              "\n",
              "    .dataframe thead th {\n",
              "        text-align: right;\n",
              "    }\n",
              "</style>\n",
              "<table border=\"1\" class=\"dataframe\">\n",
              "  <thead>\n",
              "    <tr style=\"text-align: right;\">\n",
              "      <th></th>\n",
              "      <th>tweets</th>\n",
              "    </tr>\n",
              "  </thead>\n",
              "  <tbody>\n",
              "    <tr>\n",
              "      <th>0</th>\n",
              "      <td>didnt feel humiliated</td>\n",
              "    </tr>\n",
              "    <tr>\n",
              "      <th>1</th>\n",
              "      <td>go feeling hopeless damned hopeful around some...</td>\n",
              "    </tr>\n",
              "    <tr>\n",
              "      <th>2</th>\n",
              "      <td>im grabbing minute post feel greedy wrong</td>\n",
              "    </tr>\n",
              "    <tr>\n",
              "      <th>3</th>\n",
              "      <td>feeling grouchy</td>\n",
              "    </tr>\n",
              "    <tr>\n",
              "      <th>4</th>\n",
              "      <td>ive feeling little burdened lately wasnt sure</td>\n",
              "    </tr>\n",
              "    <tr>\n",
              "      <th>...</th>\n",
              "      <td>...</td>\n",
              "    </tr>\n",
              "    <tr>\n",
              "      <th>19813</th>\n",
              "      <td>melissa stared friend dism</td>\n",
              "    </tr>\n",
              "    <tr>\n",
              "      <th>19814</th>\n",
              "      <td>successive state elections seen governing part...</td>\n",
              "    </tr>\n",
              "    <tr>\n",
              "      <th>19815</th>\n",
              "      <td>vincent irritated dismay</td>\n",
              "    </tr>\n",
              "    <tr>\n",
              "      <th>19816</th>\n",
              "      <td>kendall hume turned back face dismayed coup</td>\n",
              "    </tr>\n",
              "    <tr>\n",
              "      <th>19817</th>\n",
              "      <td>dismayed surpris</td>\n",
              "    </tr>\n",
              "  </tbody>\n",
              "</table>\n",
              "<p>19818 rows × 1 columns</p>\n",
              "</div>\n",
              "      <button class=\"colab-df-convert\" onclick=\"convertToInteractive('df-1b754320-cf8e-41ec-92cf-730520258fd9')\"\n",
              "              title=\"Convert this dataframe to an interactive table.\"\n",
              "              style=\"display:none;\">\n",
              "        \n",
              "  <svg xmlns=\"http://www.w3.org/2000/svg\" height=\"24px\"viewBox=\"0 0 24 24\"\n",
              "       width=\"24px\">\n",
              "    <path d=\"M0 0h24v24H0V0z\" fill=\"none\"/>\n",
              "    <path d=\"M18.56 5.44l.94 2.06.94-2.06 2.06-.94-2.06-.94-.94-2.06-.94 2.06-2.06.94zm-11 1L8.5 8.5l.94-2.06 2.06-.94-2.06-.94L8.5 2.5l-.94 2.06-2.06.94zm10 10l.94 2.06.94-2.06 2.06-.94-2.06-.94-.94-2.06-.94 2.06-2.06.94z\"/><path d=\"M17.41 7.96l-1.37-1.37c-.4-.4-.92-.59-1.43-.59-.52 0-1.04.2-1.43.59L10.3 9.45l-7.72 7.72c-.78.78-.78 2.05 0 2.83L4 21.41c.39.39.9.59 1.41.59.51 0 1.02-.2 1.41-.59l7.78-7.78 2.81-2.81c.8-.78.8-2.07 0-2.86zM5.41 20L4 18.59l7.72-7.72 1.47 1.35L5.41 20z\"/>\n",
              "  </svg>\n",
              "      </button>\n",
              "      \n",
              "  <style>\n",
              "    .colab-df-container {\n",
              "      display:flex;\n",
              "      flex-wrap:wrap;\n",
              "      gap: 12px;\n",
              "    }\n",
              "\n",
              "    .colab-df-convert {\n",
              "      background-color: #E8F0FE;\n",
              "      border: none;\n",
              "      border-radius: 50%;\n",
              "      cursor: pointer;\n",
              "      display: none;\n",
              "      fill: #1967D2;\n",
              "      height: 32px;\n",
              "      padding: 0 0 0 0;\n",
              "      width: 32px;\n",
              "    }\n",
              "\n",
              "    .colab-df-convert:hover {\n",
              "      background-color: #E2EBFA;\n",
              "      box-shadow: 0px 1px 2px rgba(60, 64, 67, 0.3), 0px 1px 3px 1px rgba(60, 64, 67, 0.15);\n",
              "      fill: #174EA6;\n",
              "    }\n",
              "\n",
              "    [theme=dark] .colab-df-convert {\n",
              "      background-color: #3B4455;\n",
              "      fill: #D2E3FC;\n",
              "    }\n",
              "\n",
              "    [theme=dark] .colab-df-convert:hover {\n",
              "      background-color: #434B5C;\n",
              "      box-shadow: 0px 1px 3px 1px rgba(0, 0, 0, 0.15);\n",
              "      filter: drop-shadow(0px 1px 2px rgba(0, 0, 0, 0.3));\n",
              "      fill: #FFFFFF;\n",
              "    }\n",
              "  </style>\n",
              "\n",
              "      <script>\n",
              "        const buttonEl =\n",
              "          document.querySelector('#df-1b754320-cf8e-41ec-92cf-730520258fd9 button.colab-df-convert');\n",
              "        buttonEl.style.display =\n",
              "          google.colab.kernel.accessAllowed ? 'block' : 'none';\n",
              "\n",
              "        async function convertToInteractive(key) {\n",
              "          const element = document.querySelector('#df-1b754320-cf8e-41ec-92cf-730520258fd9');\n",
              "          const dataTable =\n",
              "            await google.colab.kernel.invokeFunction('convertToInteractive',\n",
              "                                                     [key], {});\n",
              "          if (!dataTable) return;\n",
              "\n",
              "          const docLinkHtml = 'Like what you see? Visit the ' +\n",
              "            '<a target=\"_blank\" href=https://colab.research.google.com/notebooks/data_table.ipynb>data table notebook</a>'\n",
              "            + ' to learn more about interactive tables.';\n",
              "          element.innerHTML = '';\n",
              "          dataTable['output_type'] = 'display_data';\n",
              "          await google.colab.output.renderOutput(dataTable, element);\n",
              "          const docLink = document.createElement('div');\n",
              "          docLink.innerHTML = docLinkHtml;\n",
              "          element.appendChild(docLink);\n",
              "        }\n",
              "      </script>\n",
              "    </div>\n",
              "  </div>\n",
              "  "
            ]
          },
          "metadata": {},
          "execution_count": 95
        }
      ]
    },
    {
      "cell_type": "code",
      "source": [
        "feel_arr=df1['tweets']\n",
        "#tokenizing the sentence\n",
        "feel_arr = [word_tokenize(sentence) for sentence in feel_arr]\n",
        "print(feel_arr[0])"
      ],
      "metadata": {
        "colab": {
          "base_uri": "https://localhost:8080/"
        },
        "id": "-URV8KWgBfHn",
        "outputId": "4ee02c96-f269-4049-89f9-fc9087aba307"
      },
      "execution_count": 96,
      "outputs": [
        {
          "output_type": "stream",
          "name": "stdout",
          "text": [
            "['didnt', 'feel', 'humiliated']\n"
          ]
        }
      ]
    },
    {
      "cell_type": "code",
      "source": [
        "#padding the sentences to create sentences of equal lengths\n",
        "def padd(arr):\n",
        "    for i in range(20-len(arr)):\n",
        "        arr.append('<pad>')\n",
        "    return arr[:20]\n",
        "   \n",
        "\n",
        "for i in range(len(feel_arr)):\n",
        "    feel_arr[i]=padd(feel_arr[i])\n",
        " \n",
        "print(feel_arr[0])"
      ],
      "metadata": {
        "colab": {
          "base_uri": "https://localhost:8080/"
        },
        "id": "EyaOPoj2Bqbx",
        "outputId": "f49a2070-f956-4d9c-cfff-814731d7e018"
      },
      "execution_count": 97,
      "outputs": [
        {
          "output_type": "stream",
          "name": "stdout",
          "text": [
            "['didnt', 'feel', 'humiliated', '<pad>', '<pad>', '<pad>', '<pad>', '<pad>', '<pad>', '<pad>', '<pad>', '<pad>', '<pad>', '<pad>', '<pad>', '<pad>', '<pad>', '<pad>', '<pad>', '<pad>']\n"
          ]
        }
      ]
    },
    {
      "cell_type": "code",
      "source": [
        "vocab_f = '/content/drive/MyDrive/glove.6B.50d.txt'\n",
        "# loading the embedding words from glove\n",
        "embeddings_index = {}\n",
        "with open(vocab_f, encoding='utf8') as f:\n",
        "    for line in f:\n",
        "\n",
        "        values = line.rstrip().rsplit(' ')\n",
        "        word = values[0]\n",
        "        coefs = np.asarray(values[1:], dtype='float32')\n",
        "        embeddings_index[word] = coefs\n",
        "         \n",
        "\n",
        "embeddings_index['happy']"
      ],
      "metadata": {
        "colab": {
          "base_uri": "https://localhost:8080/"
        },
        "id": "eIYQxEKTCAWS",
        "outputId": "36392ef6-9659-4ae4-ff7e-10f0d02be435"
      },
      "execution_count": 98,
      "outputs": [
        {
          "output_type": "execute_result",
          "data": {
            "text/plain": [
              "array([ 0.092086,  0.2571  , -0.58693 , -0.37029 ,  1.0828  , -0.55466 ,\n",
              "       -0.78142 ,  0.58696 , -0.58714 ,  0.46318 , -0.11267 ,  0.2606  ,\n",
              "       -0.26928 , -0.072466,  1.247   ,  0.30571 ,  0.56731 ,  0.30509 ,\n",
              "       -0.050312, -0.64443 , -0.54513 ,  0.86429 ,  0.20914 ,  0.56334 ,\n",
              "        1.1228  , -1.0516  , -0.78105 ,  0.29656 ,  0.7261  , -0.61392 ,\n",
              "        2.4225  ,  1.0142  , -0.17753 ,  0.4147  , -0.12966 , -0.47064 ,\n",
              "        0.3807  ,  0.16309 , -0.323   , -0.77899 , -0.42473 , -0.30826 ,\n",
              "       -0.42242 ,  0.055069,  0.38267 ,  0.037415, -0.4302  , -0.39442 ,\n",
              "        0.10511 ,  0.87286 ], dtype=float32)"
            ]
          },
          "metadata": {},
          "execution_count": 98
        }
      ]
    },
    {
      "cell_type": "code",
      "source": [
        "#creating the embedding matrix\n",
        "embedded_feel_arr = []\n",
        "for each_sentence in feel_arr:\n",
        "    embedded_feel_arr.append([])\n",
        "    for word in each_sentence:\n",
        "        if word.lower() in embeddings_index:\n",
        "            embedded_feel_arr[-1].append(embeddings_index[word.lower()])\n",
        "        else:\n",
        "            embedded_feel_arr[-1].append([0]*50)\n",
        "             \n",
        "print(embedded_feel_arr[0][0])"
      ],
      "metadata": {
        "colab": {
          "base_uri": "https://localhost:8080/"
        },
        "id": "J1inS_AXCHNZ",
        "outputId": "b2cf49bd-32ff-4bf9-a5b4-ce32f6c3b8dd"
      },
      "execution_count": 99,
      "outputs": [
        {
          "output_type": "stream",
          "name": "stdout",
          "text": [
            "[ 0.37208  -1.6367   -0.01596  -0.71096  -0.091069 -0.64653   0.14935\n",
            "  1.359    -0.73179   0.89379   0.48058   0.26045  -0.35272  -0.29421\n",
            "  0.83736   0.76019   0.85588   0.065947  0.91954  -0.44967  -0.72178\n",
            "  0.026336  0.29148   0.53179   1.0075    0.11035  -0.81848  -0.12967\n",
            "  0.5763   -1.3032   -0.083632  1.4601   -0.40714   0.79689   0.085117\n",
            " -0.28072   0.21696   0.8038    0.63423  -0.21642  -0.3982   -0.5367\n",
            " -0.36871   0.76897  -0.4583   -0.06673   0.32085   0.87914  -0.54308\n",
            "  0.57738 ]\n"
          ]
        }
      ]
    },
    {
      "cell_type": "code",
      "source": [
        "from sklearn.preprocessing import OneHotEncoder\n",
        "from sklearn.model_selection import train_test_split\n",
        "X=np.array(embedded_feel_arr)\n",
        " \n",
        "# One-hot enncoding is performed to the output labels\n",
        "enc = OneHotEncoder(handle_unknown='ignore')\n",
        "Y = enc.fit_transform(np.array(df['Emotion']).reshape(-1,1)).toarray()\n",
        " \n",
        "# Splitting the data into train, test and validation set\n",
        "X_train, X_test, Y_train, Y_test = train_test_split(X, Y,test_size=0.2,random_state=42)\n",
        "X_train, X_val, Y_train, Y_val = train_test_split(X_train, Y_train,test_size=0.1,random_state=42)"
      ],
      "metadata": {
        "id": "Mlw1pVY4DcZB"
      },
      "execution_count": 100,
      "outputs": []
    },
    {
      "cell_type": "code",
      "source": [
        "print(enc.categories_)"
      ],
      "metadata": {
        "colab": {
          "base_uri": "https://localhost:8080/"
        },
        "id": "D5QIKZt9O0-E",
        "outputId": "77b58975-1981-4fd8-d3ec-e84853847e8e"
      },
      "execution_count": 101,
      "outputs": [
        {
          "output_type": "stream",
          "name": "stdout",
          "text": [
            "[array(['anger', 'fear', 'happy', 'sadness', 'surprise'], dtype=object)]\n"
          ]
        }
      ]
    },
    {
      "cell_type": "code",
      "source": [
        "from keras.layers import Dropout\n",
        "import matplotlib.pyplot as plt\n",
        "class BiLSTMModel:\n",
        "  #defining the model class and its functions\n",
        "    def __init__(self):\n",
        "        self.model = Sequential()\n",
        "        self.model.add(Bidirectional(LSTM(100, input_shape=(20, 50))))\n",
        "        self.model.add(Dropout(0.5))\n",
        "        self.model.add(Dense(64, activation='relu',kernel_regularizer=tf.keras.regularizers.l2(0.01)))\n",
        "        self.model.add(Dropout(0.5))\n",
        "        self.model.add(Dense(5, activation='softmax'))\n",
        "        self.model.compile(optimizer= tf.keras.optimizers.Adam(learning_rate=0.001), loss='categorical_crossentropy', metrics=['accuracy'])\n",
        "        \n",
        " \n",
        "\n",
        "    def fit(self, X, Y, epochs, batch_size,validation_data=(X_val, Y_val)):\n",
        "        history = self.model.fit(X, Y, epochs=epochs, batch_size=batch_size, validation_data=validation_data)\n",
        "        return history\n",
        "        \n",
        "\n",
        "    def plot_train_test_curve(self, history):\n",
        "        fig, axs = plt.subplots(2, figsize=(14, 10))\n",
        "    \n",
        "        # summarize history for accuracy\n",
        "        axs[0].plot(history.history['accuracy'])\n",
        "        axs[0].plot(history.history['val_accuracy'])\n",
        "        axs[0].set_title('Model Accuracy')\n",
        "        axs[0].set_ylabel('Accuracy')\n",
        "        axs[0].set_xlabel('Epoch')\n",
        "        axs[0].legend(['Train', 'Test'], loc='upper left')\n",
        "        \n",
        "        # summarize history for loss\n",
        "        axs[1].plot(history.history['loss'])\n",
        "        axs[1].plot(history.history['val_loss'])\n",
        "        axs[1].set_title('Model Loss')\n",
        "        axs[1].set_ylabel('Loss')\n",
        "        axs[1].set_xlabel('Epoch')\n",
        "        axs[1].legend(['Train', 'Test'], loc='upper left')\n",
        "\n",
        "        plt.tight_layout()\n",
        "        plt.show()\n",
        " \n",
        "    def evaluate(self, X, Y, batch_size):\n",
        "        return self.model.evaluate(X, Y, batch_size=batch_size)\n",
        " \n",
        "    def predict(self, X):\n",
        "        return self.model.predict(X)\n",
        "        \n",
        "    \n",
        "    def save(self,loc):\n",
        "      return self.model.save(loc)"
      ],
      "metadata": {
        "id": "2FqYZH0mDh9X"
      },
      "execution_count": 109,
      "outputs": []
    },
    {
      "cell_type": "code",
      "source": [
        "from tensorflow.keras.callbacks import ModelCheckpoint\n",
        "# create an instance of the BiLSTMModel class\n",
        "model = BiLSTMModel()\n",
        "# fit the model on the input and target data\n",
        "histry=model.fit(X_train, Y_train, epochs=100, batch_size=128, validation_data=(X_val, Y_val))"
      ],
      "metadata": {
        "colab": {
          "base_uri": "https://localhost:8080/"
        },
        "id": "ysLt7-7bEROT",
        "outputId": "b4516657-02e5-4ce2-a307-3829ae77fdb3"
      },
      "execution_count": 110,
      "outputs": [
        {
          "output_type": "stream",
          "name": "stdout",
          "text": [
            "Epoch 1/100\n",
            "112/112 [==============================] - 23s 114ms/step - loss: 1.8281 - accuracy: 0.4516 - val_loss: 1.3744 - val_accuracy: 0.5410\n",
            "Epoch 2/100\n",
            "112/112 [==============================] - 11s 94ms/step - loss: 1.2669 - accuracy: 0.5505 - val_loss: 1.1680 - val_accuracy: 0.5618\n",
            "Epoch 3/100\n",
            "112/112 [==============================] - 13s 114ms/step - loss: 1.0932 - accuracy: 0.5943 - val_loss: 0.9726 - val_accuracy: 0.6526\n",
            "Epoch 4/100\n",
            "112/112 [==============================] - 12s 110ms/step - loss: 0.9745 - accuracy: 0.6419 - val_loss: 0.9092 - val_accuracy: 0.6715\n",
            "Epoch 5/100\n",
            "112/112 [==============================] - 13s 113ms/step - loss: 0.8782 - accuracy: 0.6798 - val_loss: 0.7906 - val_accuracy: 0.7144\n",
            "Epoch 6/100\n",
            "112/112 [==============================] - 14s 122ms/step - loss: 0.7937 - accuracy: 0.7150 - val_loss: 0.7421 - val_accuracy: 0.7478\n",
            "Epoch 7/100\n",
            "112/112 [==============================] - 12s 110ms/step - loss: 0.7351 - accuracy: 0.7460 - val_loss: 0.7249 - val_accuracy: 0.7503\n",
            "Epoch 8/100\n",
            "112/112 [==============================] - 12s 103ms/step - loss: 0.6659 - accuracy: 0.7777 - val_loss: 0.6297 - val_accuracy: 0.7793\n",
            "Epoch 9/100\n",
            "112/112 [==============================] - 11s 100ms/step - loss: 0.6082 - accuracy: 0.8018 - val_loss: 0.6143 - val_accuracy: 0.7831\n",
            "Epoch 10/100\n",
            "112/112 [==============================] - 12s 110ms/step - loss: 0.5489 - accuracy: 0.8249 - val_loss: 0.6161 - val_accuracy: 0.7976\n",
            "Epoch 11/100\n",
            "112/112 [==============================] - 12s 111ms/step - loss: 0.5050 - accuracy: 0.8436 - val_loss: 0.5390 - val_accuracy: 0.8209\n",
            "Epoch 12/100\n",
            "112/112 [==============================] - 13s 113ms/step - loss: 0.4696 - accuracy: 0.8563 - val_loss: 0.5232 - val_accuracy: 0.8354\n",
            "Epoch 13/100\n",
            "112/112 [==============================] - 13s 115ms/step - loss: 0.4219 - accuracy: 0.8712 - val_loss: 0.5161 - val_accuracy: 0.8367\n",
            "Epoch 14/100\n",
            "112/112 [==============================] - 11s 94ms/step - loss: 0.3952 - accuracy: 0.8803 - val_loss: 0.5043 - val_accuracy: 0.8417\n",
            "Epoch 15/100\n",
            "112/112 [==============================] - 13s 114ms/step - loss: 0.3702 - accuracy: 0.8862 - val_loss: 0.5115 - val_accuracy: 0.8392\n",
            "Epoch 16/100\n",
            "112/112 [==============================] - 12s 109ms/step - loss: 0.3454 - accuracy: 0.8981 - val_loss: 0.5207 - val_accuracy: 0.8392\n",
            "Epoch 17/100\n",
            "112/112 [==============================] - 12s 111ms/step - loss: 0.3210 - accuracy: 0.9051 - val_loss: 0.4988 - val_accuracy: 0.8487\n",
            "Epoch 18/100\n",
            "112/112 [==============================] - 13s 115ms/step - loss: 0.3067 - accuracy: 0.9102 - val_loss: 0.5535 - val_accuracy: 0.8424\n",
            "Epoch 19/100\n",
            "112/112 [==============================] - 13s 119ms/step - loss: 0.2864 - accuracy: 0.9154 - val_loss: 0.5430 - val_accuracy: 0.8512\n",
            "Epoch 20/100\n",
            "112/112 [==============================] - 12s 108ms/step - loss: 0.2546 - accuracy: 0.9294 - val_loss: 0.4963 - val_accuracy: 0.8569\n",
            "Epoch 21/100\n",
            "112/112 [==============================] - 10s 92ms/step - loss: 0.2554 - accuracy: 0.9269 - val_loss: 0.4936 - val_accuracy: 0.8600\n",
            "Epoch 22/100\n",
            "112/112 [==============================] - 12s 111ms/step - loss: 0.2318 - accuracy: 0.9357 - val_loss: 0.5081 - val_accuracy: 0.8537\n",
            "Epoch 23/100\n",
            "112/112 [==============================] - 12s 112ms/step - loss: 0.2205 - accuracy: 0.9398 - val_loss: 0.6526 - val_accuracy: 0.8348\n",
            "Epoch 24/100\n",
            "112/112 [==============================] - 12s 111ms/step - loss: 0.2201 - accuracy: 0.9394 - val_loss: 0.6444 - val_accuracy: 0.8443\n",
            "Epoch 25/100\n",
            "112/112 [==============================] - 13s 113ms/step - loss: 0.2107 - accuracy: 0.9442 - val_loss: 0.5417 - val_accuracy: 0.8638\n",
            "Epoch 26/100\n",
            "112/112 [==============================] - 12s 104ms/step - loss: 0.1854 - accuracy: 0.9516 - val_loss: 0.6390 - val_accuracy: 0.8537\n",
            "Epoch 27/100\n",
            "112/112 [==============================] - 11s 98ms/step - loss: 0.1803 - accuracy: 0.9512 - val_loss: 0.5065 - val_accuracy: 0.8607\n",
            "Epoch 28/100\n",
            "112/112 [==============================] - 13s 115ms/step - loss: 0.1795 - accuracy: 0.9516 - val_loss: 0.5214 - val_accuracy: 0.8644\n",
            "Epoch 29/100\n",
            "112/112 [==============================] - 12s 111ms/step - loss: 0.1574 - accuracy: 0.9577 - val_loss: 0.5908 - val_accuracy: 0.8607\n",
            "Epoch 30/100\n",
            "112/112 [==============================] - 12s 111ms/step - loss: 0.1657 - accuracy: 0.9565 - val_loss: 0.5283 - val_accuracy: 0.8613\n",
            "Epoch 31/100\n",
            "112/112 [==============================] - 13s 114ms/step - loss: 0.1455 - accuracy: 0.9622 - val_loss: 0.5773 - val_accuracy: 0.8638\n",
            "Epoch 32/100\n",
            "112/112 [==============================] - 11s 102ms/step - loss: 0.1672 - accuracy: 0.9554 - val_loss: 0.5411 - val_accuracy: 0.8569\n",
            "Epoch 33/100\n",
            "112/112 [==============================] - 11s 100ms/step - loss: 0.1508 - accuracy: 0.9596 - val_loss: 0.5617 - val_accuracy: 0.8670\n",
            "Epoch 34/100\n",
            "112/112 [==============================] - 16s 141ms/step - loss: 0.1346 - accuracy: 0.9666 - val_loss: 0.5839 - val_accuracy: 0.8638\n",
            "Epoch 35/100\n",
            "112/112 [==============================] - 12s 107ms/step - loss: 0.1329 - accuracy: 0.9657 - val_loss: 0.6229 - val_accuracy: 0.8607\n",
            "Epoch 36/100\n",
            "112/112 [==============================] - 13s 113ms/step - loss: 0.1310 - accuracy: 0.9671 - val_loss: 0.5774 - val_accuracy: 0.8676\n",
            "Epoch 37/100\n",
            "112/112 [==============================] - 12s 110ms/step - loss: 0.1139 - accuracy: 0.9727 - val_loss: 0.6500 - val_accuracy: 0.8607\n",
            "Epoch 38/100\n",
            "112/112 [==============================] - 13s 112ms/step - loss: 0.0982 - accuracy: 0.9771 - val_loss: 0.6646 - val_accuracy: 0.8600\n",
            "Epoch 39/100\n",
            "112/112 [==============================] - 12s 104ms/step - loss: 0.1076 - accuracy: 0.9738 - val_loss: 0.6181 - val_accuracy: 0.8638\n",
            "Epoch 40/100\n",
            "112/112 [==============================] - 11s 96ms/step - loss: 0.1204 - accuracy: 0.9718 - val_loss: 0.6490 - val_accuracy: 0.8638\n",
            "Epoch 41/100\n",
            "112/112 [==============================] - 13s 112ms/step - loss: 0.1176 - accuracy: 0.9710 - val_loss: 0.5850 - val_accuracy: 0.8701\n",
            "Epoch 42/100\n",
            "112/112 [==============================] - 13s 113ms/step - loss: 0.0979 - accuracy: 0.9775 - val_loss: 0.6388 - val_accuracy: 0.8733\n",
            "Epoch 43/100\n",
            "112/112 [==============================] - 12s 111ms/step - loss: 0.1033 - accuracy: 0.9761 - val_loss: 0.6107 - val_accuracy: 0.8726\n",
            "Epoch 44/100\n",
            "112/112 [==============================] - 12s 107ms/step - loss: 0.1027 - accuracy: 0.9752 - val_loss: 0.6193 - val_accuracy: 0.8689\n",
            "Epoch 45/100\n",
            "112/112 [==============================] - 11s 99ms/step - loss: 0.1093 - accuracy: 0.9748 - val_loss: 0.6154 - val_accuracy: 0.8651\n",
            "Epoch 46/100\n",
            "112/112 [==============================] - 11s 100ms/step - loss: 0.0918 - accuracy: 0.9798 - val_loss: 0.6094 - val_accuracy: 0.8745\n",
            "Epoch 47/100\n",
            "112/112 [==============================] - 13s 113ms/step - loss: 0.0948 - accuracy: 0.9792 - val_loss: 0.6149 - val_accuracy: 0.8588\n",
            "Epoch 48/100\n",
            "112/112 [==============================] - 12s 110ms/step - loss: 0.0862 - accuracy: 0.9810 - val_loss: 0.6702 - val_accuracy: 0.8733\n",
            "Epoch 49/100\n",
            "112/112 [==============================] - 12s 110ms/step - loss: 0.0810 - accuracy: 0.9833 - val_loss: 0.6426 - val_accuracy: 0.8682\n",
            "Epoch 50/100\n",
            "112/112 [==============================] - 12s 106ms/step - loss: 0.0916 - accuracy: 0.9794 - val_loss: 0.6721 - val_accuracy: 0.8670\n",
            "Epoch 51/100\n",
            "112/112 [==============================] - 11s 93ms/step - loss: 0.0940 - accuracy: 0.9790 - val_loss: 0.6777 - val_accuracy: 0.8562\n",
            "Epoch 52/100\n",
            "112/112 [==============================] - 12s 108ms/step - loss: 0.1012 - accuracy: 0.9782 - val_loss: 0.6172 - val_accuracy: 0.8651\n",
            "Epoch 53/100\n",
            "112/112 [==============================] - 12s 110ms/step - loss: 0.0730 - accuracy: 0.9860 - val_loss: 0.6891 - val_accuracy: 0.8752\n",
            "Epoch 54/100\n",
            "112/112 [==============================] - 12s 111ms/step - loss: 0.0796 - accuracy: 0.9828 - val_loss: 0.6836 - val_accuracy: 0.8625\n",
            "Epoch 55/100\n",
            "112/112 [==============================] - 13s 114ms/step - loss: 0.0881 - accuracy: 0.9813 - val_loss: 0.6618 - val_accuracy: 0.8588\n",
            "Epoch 56/100\n",
            "112/112 [==============================] - 12s 107ms/step - loss: 0.0897 - accuracy: 0.9790 - val_loss: 0.6777 - val_accuracy: 0.8701\n",
            "Epoch 57/100\n",
            "112/112 [==============================] - 11s 96ms/step - loss: 0.0736 - accuracy: 0.9849 - val_loss: 0.6195 - val_accuracy: 0.8689\n",
            "Epoch 58/100\n",
            "112/112 [==============================] - 12s 109ms/step - loss: 0.0918 - accuracy: 0.9802 - val_loss: 0.6605 - val_accuracy: 0.8651\n",
            "Epoch 59/100\n",
            "112/112 [==============================] - 12s 110ms/step - loss: 0.0692 - accuracy: 0.9870 - val_loss: 0.6636 - val_accuracy: 0.8720\n",
            "Epoch 60/100\n",
            "112/112 [==============================] - 13s 112ms/step - loss: 0.0788 - accuracy: 0.9844 - val_loss: 0.6439 - val_accuracy: 0.8644\n",
            "Epoch 61/100\n",
            "112/112 [==============================] - 12s 109ms/step - loss: 0.0623 - accuracy: 0.9885 - val_loss: 0.7200 - val_accuracy: 0.8644\n",
            "Epoch 62/100\n",
            "112/112 [==============================] - 12s 105ms/step - loss: 0.0960 - accuracy: 0.9796 - val_loss: 0.6751 - val_accuracy: 0.8607\n",
            "Epoch 63/100\n",
            "112/112 [==============================] - 12s 102ms/step - loss: 0.0771 - accuracy: 0.9847 - val_loss: 0.6813 - val_accuracy: 0.8777\n",
            "Epoch 64/100\n",
            "112/112 [==============================] - 14s 124ms/step - loss: 0.0662 - accuracy: 0.9874 - val_loss: 0.6622 - val_accuracy: 0.8689\n",
            "Epoch 65/100\n",
            "112/112 [==============================] - 14s 123ms/step - loss: 0.0711 - accuracy: 0.9859 - val_loss: 0.6765 - val_accuracy: 0.8726\n",
            "Epoch 66/100\n",
            "112/112 [==============================] - 13s 120ms/step - loss: 0.0739 - accuracy: 0.9844 - val_loss: 0.6880 - val_accuracy: 0.8745\n",
            "Epoch 67/100\n",
            "112/112 [==============================] - 13s 113ms/step - loss: 0.0539 - accuracy: 0.9911 - val_loss: 0.6419 - val_accuracy: 0.8726\n",
            "Epoch 68/100\n",
            "112/112 [==============================] - 13s 113ms/step - loss: 0.0556 - accuracy: 0.9891 - val_loss: 0.6701 - val_accuracy: 0.8682\n",
            "Epoch 69/100\n",
            "112/112 [==============================] - 13s 115ms/step - loss: 0.0576 - accuracy: 0.9879 - val_loss: 0.7418 - val_accuracy: 0.8726\n",
            "Epoch 70/100\n",
            "112/112 [==============================] - 12s 104ms/step - loss: 0.0527 - accuracy: 0.9906 - val_loss: 0.7351 - val_accuracy: 0.8689\n",
            "Epoch 71/100\n",
            "112/112 [==============================] - 11s 99ms/step - loss: 0.0577 - accuracy: 0.9889 - val_loss: 0.7720 - val_accuracy: 0.8569\n",
            "Epoch 72/100\n",
            "112/112 [==============================] - 14s 124ms/step - loss: 0.0875 - accuracy: 0.9811 - val_loss: 0.7500 - val_accuracy: 0.8689\n",
            "Epoch 73/100\n",
            "112/112 [==============================] - 12s 111ms/step - loss: 0.0753 - accuracy: 0.9859 - val_loss: 0.7219 - val_accuracy: 0.8625\n",
            "Epoch 74/100\n",
            "112/112 [==============================] - 12s 109ms/step - loss: 0.0621 - accuracy: 0.9891 - val_loss: 0.7367 - val_accuracy: 0.8657\n",
            "Epoch 75/100\n",
            "112/112 [==============================] - 12s 108ms/step - loss: 0.0654 - accuracy: 0.9877 - val_loss: 0.7001 - val_accuracy: 0.8581\n",
            "Epoch 76/100\n",
            "112/112 [==============================] - 11s 97ms/step - loss: 0.0559 - accuracy: 0.9904 - val_loss: 0.6962 - val_accuracy: 0.8720\n",
            "Epoch 77/100\n",
            "112/112 [==============================] - 11s 101ms/step - loss: 0.0449 - accuracy: 0.9923 - val_loss: 0.7074 - val_accuracy: 0.8701\n",
            "Epoch 78/100\n",
            "112/112 [==============================] - 13s 114ms/step - loss: 0.0478 - accuracy: 0.9917 - val_loss: 0.7217 - val_accuracy: 0.8689\n",
            "Epoch 79/100\n",
            "112/112 [==============================] - 12s 109ms/step - loss: 0.0545 - accuracy: 0.9903 - val_loss: 0.7293 - val_accuracy: 0.8651\n",
            "Epoch 80/100\n",
            "112/112 [==============================] - 13s 115ms/step - loss: 0.0644 - accuracy: 0.9872 - val_loss: 0.7352 - val_accuracy: 0.8638\n",
            "Epoch 81/100\n",
            "112/112 [==============================] - 12s 111ms/step - loss: 0.0532 - accuracy: 0.9903 - val_loss: 0.7228 - val_accuracy: 0.8726\n",
            "Epoch 82/100\n",
            "112/112 [==============================] - 11s 98ms/step - loss: 0.0490 - accuracy: 0.9917 - val_loss: 0.7930 - val_accuracy: 0.8581\n",
            "Epoch 83/100\n",
            "112/112 [==============================] - 12s 106ms/step - loss: 0.0515 - accuracy: 0.9902 - val_loss: 0.8175 - val_accuracy: 0.8657\n",
            "Epoch 84/100\n",
            "112/112 [==============================] - 13s 113ms/step - loss: 0.0487 - accuracy: 0.9915 - val_loss: 0.7567 - val_accuracy: 0.8714\n",
            "Epoch 85/100\n",
            "112/112 [==============================] - 12s 110ms/step - loss: 0.0617 - accuracy: 0.9882 - val_loss: 0.7766 - val_accuracy: 0.8651\n",
            "Epoch 86/100\n",
            "112/112 [==============================] - 13s 114ms/step - loss: 0.0653 - accuracy: 0.9870 - val_loss: 0.7276 - val_accuracy: 0.8689\n",
            "Epoch 87/100\n",
            "112/112 [==============================] - 13s 115ms/step - loss: 0.0658 - accuracy: 0.9879 - val_loss: 0.8324 - val_accuracy: 0.8594\n",
            "Epoch 88/100\n",
            "112/112 [==============================] - 10s 93ms/step - loss: 0.0608 - accuracy: 0.9891 - val_loss: 0.7091 - val_accuracy: 0.8644\n",
            "Epoch 89/100\n",
            "112/112 [==============================] - 12s 108ms/step - loss: 0.0629 - accuracy: 0.9884 - val_loss: 0.7221 - val_accuracy: 0.8777\n",
            "Epoch 90/100\n",
            "112/112 [==============================] - 13s 117ms/step - loss: 0.0473 - accuracy: 0.9921 - val_loss: 0.7192 - val_accuracy: 0.8802\n",
            "Epoch 91/100\n",
            "112/112 [==============================] - 13s 112ms/step - loss: 0.0435 - accuracy: 0.9920 - val_loss: 0.7785 - val_accuracy: 0.8676\n",
            "Epoch 92/100\n",
            "112/112 [==============================] - 13s 114ms/step - loss: 0.0514 - accuracy: 0.9901 - val_loss: 0.7692 - val_accuracy: 0.8752\n",
            "Epoch 93/100\n",
            "112/112 [==============================] - 13s 116ms/step - loss: 0.0443 - accuracy: 0.9930 - val_loss: 0.7543 - val_accuracy: 0.8777\n",
            "Epoch 94/100\n",
            "112/112 [==============================] - 12s 106ms/step - loss: 0.0453 - accuracy: 0.9928 - val_loss: 0.7836 - val_accuracy: 0.8701\n",
            "Epoch 95/100\n",
            "112/112 [==============================] - 11s 98ms/step - loss: 0.0629 - accuracy: 0.9877 - val_loss: 0.8230 - val_accuracy: 0.8701\n",
            "Epoch 96/100\n",
            "112/112 [==============================] - 13s 114ms/step - loss: 0.0510 - accuracy: 0.9907 - val_loss: 0.7926 - val_accuracy: 0.8695\n",
            "Epoch 97/100\n",
            "112/112 [==============================] - 13s 113ms/step - loss: 0.0415 - accuracy: 0.9936 - val_loss: 0.9500 - val_accuracy: 0.8607\n",
            "Epoch 98/100\n",
            "112/112 [==============================] - 13s 114ms/step - loss: 0.0461 - accuracy: 0.9924 - val_loss: 0.7938 - val_accuracy: 0.8714\n",
            "Epoch 99/100\n",
            "112/112 [==============================] - 13s 112ms/step - loss: 0.0388 - accuracy: 0.9940 - val_loss: 0.8452 - val_accuracy: 0.8619\n",
            "Epoch 100/100\n",
            "112/112 [==============================] - 13s 114ms/step - loss: 0.0493 - accuracy: 0.9919 - val_loss: 0.8090 - val_accuracy: 0.8689\n"
          ]
        }
      ]
    },
    {
      "cell_type": "code",
      "source": [
        "model.save('/content/drive/MyDrive/your_model_text20.h5')"
      ],
      "metadata": {
        "id": "QEVq32lWETxF"
      },
      "execution_count": 112,
      "outputs": []
    },
    {
      "cell_type": "code",
      "source": [
        "model.plot_train_test_curve(histry)"
      ],
      "metadata": {
        "colab": {
          "base_uri": "https://localhost:8080/",
          "height": 1000
        },
        "id": "EdilYFSDgKET",
        "outputId": "fd89eddb-e253-4d42-fe00-069a8fad843a"
      },
      "execution_count": 113,
      "outputs": [
        {
          "output_type": "display_data",
          "data": {
            "text/plain": [
              "<Figure size 1400x1000 with 2 Axes>"
            ],
            "image/png": "[encoded data removed]"
          },
          "metadata": {}
        }
      ]
    },
    {
      "cell_type": "code",
      "source": [
        "model.evaluate(X_test,Y_test)"
      ],
      "metadata": {
        "colab": {
          "base_uri": "https://localhost:8080/"
        },
        "id": "311t0vg4vwFu",
        "outputId": "a0233ab6-2b59-4298-c5e6-66d401c20b11"
      },
      "execution_count": 119,
      "outputs": [
        {
          "output_type": "stream",
          "name": "stdout",
          "text": [
            "124/124 [==============================] - 2s 11ms/step - loss: 0.8529 - accuracy: 0.8633\n"
          ]
        },
        {
          "output_type": "execute_result",
          "data": {
            "text/plain": [
              "[0.852871298789978, 0.8632694482803345]"
            ]
          },
          "metadata": {},
          "execution_count": 119
        }
      ]
    },
    {
      "cell_type": "code",
      "source": [
        "model.save('/content/drive/MyDrive/your_model_text20.h5')"
      ],
      "metadata": {
        "id": "q5WlSNX7XrtF"
      },
      "execution_count": 116,
      "outputs": []
    },
    {
      "cell_type": "code",
      "source": [
        "from keras.models import  load_model\n",
        "def padd(arr):\n",
        "    for i in range(20-len(arr)):\n",
        "        arr.append('<pad>')\n",
        "    return arr[:20]\n",
        "\n",
        "def predict(text):\n",
        "\n",
        "    BAD_SYMBOLS_RE = re.compile('[^0-9a-z #+_]')\n",
        "\n",
        "    #stop words\n",
        "    stop_words = set(stopwords.words('english'))\n",
        "    word_tokens = nltk.word_tokenize(text) \n",
        "    filtered_sentence = [w for w in word_tokens if not w in stop_words]\n",
        "    text = ' '.join(filtered_sentence)\n",
        "        \n",
        "    feel_arr = word_tokenize(text)\n",
        "      \n",
        "    \n",
        "   \n",
        "# call the padd function for each sentence in feel_arr\n",
        "    feel_arr=padd(feel_arr)\n",
        "\n",
        "    embeddings_index = {}\n",
        "    with open(vocab_f, encoding='utf8') as f:\n",
        "        for line in f:\n",
        "            values = line.rstrip().rsplit(' ')\n",
        "            word = values[0]\n",
        "            coefs = np.asarray(values[1:], dtype='float32')\n",
        "            embeddings_index[word] = coefs\n",
        "    \n",
        "    embedded_feel_arr = []\n",
        "    for word in feel_arr:\n",
        "        if word.lower() in embeddings_index:\n",
        "            embedded_feel_arr.append(embeddings_index[word.lower()])\n",
        "        else:\n",
        "            embedded_feel_arr.append([0]*50)\n",
        "\n",
        "    X=np.array(embedded_feel_arr)\n",
        "  \n",
        "    X=np.reshape(X,(1,20,50))\n",
        "\n",
        "    \n",
        "    model = load_model('/content/drive/MyDrive/your_model_text20.h5')\n",
        "    y=model.predict(X)\n",
        "    y=np.argmax(y[0])\n",
        "    labels=['anger', 'fear', 'happy', 'sadness', 'surprise']\n",
        "    print(labels[y])\n",
        "\n",
        "predict(\"i am scared\")"
      ],
      "metadata": {
        "id": "hbTcFCM1DPzM",
        "colab": {
          "base_uri": "https://localhost:8080/"
        },
        "outputId": "15b2218e-8e48-4650-fb84-9c33cdff494a"
      },
      "execution_count": 117,
      "outputs": [
        {
          "output_type": "stream",
          "name": "stdout",
          "text": [
            "1/1 [==============================] - 1s 883ms/step\n",
            "sadness\n"
          ]
        }
      ]
    },
    {
      "cell_type": "code",
      "source": [
        " model = load_model('/content/drive/MyDrive/your_model_text20_100.h5')"
      ],
      "metadata": {
        "id": "CZ8SHXFfUfHW"
      },
      "execution_count": 114,
      "outputs": []
    },
    {
      "cell_type": "code",
      "source": [
        "model.summary()"
      ],
      "metadata": {
        "colab": {
          "base_uri": "https://localhost:8080/"
        },
        "id": "DmBhwYWO6Emw",
        "outputId": "52ea5860-6435-4078-e1c2-7dfc567be553"
      },
      "execution_count": 118,
      "outputs": [
        {
          "output_type": "stream",
          "name": "stdout",
          "text": [
            "Model: \"sequential_22\"\n",
            "_________________________________________________________________\n",
            " Layer (type)                Output Shape              Param #   \n",
            "=================================================================\n",
            " bidirectional_22 (Bidirecti  (None, 200)              120800    \n",
            " onal)                                                           \n",
            "                                                                 \n",
            " dropout_22 (Dropout)        (None, 200)               0         \n",
            "                                                                 \n",
            " dense_44 (Dense)            (None, 64)                12864     \n",
            "                                                                 \n",
            " dropout_23 (Dropout)        (None, 64)                0         \n",
            "                                                                 \n",
            " dense_45 (Dense)            (None, 5)                 325       \n",
            "                                                                 \n",
            "=================================================================\n",
            "Total params: 133,989\n",
            "Trainable params: 133,989\n",
            "Non-trainable params: 0\n",
            "_________________________________________________________________\n"
          ]
        }
      ]
    },
    {
      "cell_type": "code",
      "source": [],
      "metadata": {
        "id": "_-iCz9X16Grr"
      },
      "execution_count": null,
      "outputs": []
    }
  ]
}